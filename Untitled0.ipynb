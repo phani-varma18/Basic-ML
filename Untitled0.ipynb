{
  "nbformat": 4,
  "nbformat_minor": 0,
  "metadata": {
    "colab": {
      "name": "Untitled0.ipynb",
      "provenance": [],
      "authorship_tag": "ABX9TyPD9jLpL1AZemuRVXnqY8Bh",
      "include_colab_link": true
    },
    "kernelspec": {
      "name": "python3",
      "display_name": "Python 3"
    },
    "language_info": {
      "name": "python"
    }
  },
  "cells": [
    {
      "cell_type": "markdown",
      "metadata": {
        "id": "view-in-github",
        "colab_type": "text"
      },
      "source": [
        "<a href=\"https://colab.research.google.com/github/phani-varma18/Basic-ML/blob/main/Untitled0.ipynb\" target=\"_parent\"><img src=\"https://colab.research.google.com/assets/colab-badge.svg\" alt=\"Open In Colab\"/></a>"
      ]
    },
    {
      "cell_type": "markdown",
      "metadata": {
        "id": "FgGpZz1O6sPw"
      },
      "source": [
        ""
      ]
    },
    {
      "cell_type": "markdown",
      "metadata": {
        "id": "UHjsPXR56vqX"
      },
      "source": [
        " 1.Adding two numbers"
      ]
    },
    {
      "cell_type": "code",
      "metadata": {
        "colab": {
          "base_uri": "https://localhost:8080/"
        },
        "id": "x-sEgFOV61jy",
        "outputId": "48be1246-406c-4c62-e8f8-9bae36d7b917"
      },
      "source": [
        "a=5\n",
        "b=6\n",
        "print(a+b)"
      ],
      "execution_count": 1,
      "outputs": [
        {
          "output_type": "stream",
          "text": [
            "11\n"
          ],
          "name": "stdout"
        }
      ]
    },
    {
      "cell_type": "markdown",
      "metadata": {
        "id": "Xb5VX-Sq8fD7"
      },
      "source": [
        " 2.Maximum of two numbers"
      ]
    },
    {
      "cell_type": "code",
      "metadata": {
        "colab": {
          "base_uri": "https://localhost:8080/"
        },
        "id": "VUwjvyFQ8prt",
        "outputId": "496a4748-ff92-402f-d9ff-63c647fcfbb8"
      },
      "source": [
        "a=9\n",
        "b=10\n",
        "if a>b:\n",
        " \n",
        "    print(\"a is maximum\")\n",
        "else:\n",
        " \n",
        "    print(\"b is maximum\")"
      ],
      "execution_count": 4,
      "outputs": [
        {
          "output_type": "stream",
          "text": [
            "b is maximum\n"
          ],
          "name": "stdout"
        }
      ]
    },
    {
      "cell_type": "markdown",
      "metadata": {
        "id": "H47HkjvI9H4x"
      },
      "source": [
        " 3.Even or Odd"
      ]
    },
    {
      "cell_type": "code",
      "metadata": {
        "colab": {
          "base_uri": "https://localhost:8080/"
        },
        "id": "VsIFhchH9K3l",
        "outputId": "1c9b7359-8f9b-4893-8d18-0f67eed2e0c3"
      },
      "source": [
        "a=8\n",
        "if a%2==0:\n",
        "    print(\"a is even\")\n",
        "else:\n",
        "    print(\"a is odd\")"
      ],
      "execution_count": 5,
      "outputs": [
        {
          "output_type": "stream",
          "text": [
            "a is even\n"
          ],
          "name": "stdout"
        }
      ]
    }
  ]
}